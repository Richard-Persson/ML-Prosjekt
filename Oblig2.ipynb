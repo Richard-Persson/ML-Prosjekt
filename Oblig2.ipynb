{
 "cells": [
  {
   "metadata": {
    "ExecuteTime": {
     "end_time": "2024-10-23T12:10:14.394122Z",
     "start_time": "2024-10-23T12:10:14.386066Z"
    }
   },
   "cell_type": "code",
   "source": [
    "#Imports\n",
    "import gradio as gr\n",
    "import numpy as np\n",
    "import matplotlib.pyplot as plt\n",
    "import pandas as pd\n",
    "import tensorflow as tf\n"
   ],
   "id": "31bb65e81f6752e1",
   "outputs": [],
   "execution_count": 7
  },
  {
   "metadata": {},
   "cell_type": "code",
   "outputs": [],
   "execution_count": null,
   "source": [
    "#Laste inn jellyfish dataset\n",
    "\n",
    "dataset_directory = './Jellyfish'\n",
    "\n",
    "\n"
   ],
   "id": "f5e1962ffe6b3e07"
  },
  {
   "metadata": {
    "ExecuteTime": {
     "end_time": "2024-10-23T11:05:36.112418Z",
     "start_time": "2024-10-23T11:05:35.595270Z"
    }
   },
   "cell_type": "code",
   "source": [
    "\n",
    "from click import launch\n",
    "\n",
    "def greet(name, intensity):\n",
    "    return \"Hello, \" + name + \"!\" * int(intensity)\n",
    "\n",
    "demo = gr.Interface(\n",
    "    fn=greet,\n",
    "    inputs=[\"image\", \"slider\"],\n",
    "    outputs=[\"text\"],\n",
    "    \n",
    ")\n",
    "\n",
    "demo.launch()\n"
   ],
   "id": "4cffb3d04cc036d5",
   "outputs": [
    {
     "name": "stdout",
     "output_type": "stream",
     "text": [
      "* Running on local URL:  http://127.0.0.1:7863\n",
      "\n",
      "To create a public link, set `share=True` in `launch()`.\n"
     ]
    },
    {
     "data": {
      "text/plain": [
       "<IPython.core.display.HTML object>"
      ],
      "text/html": [
       "<div><iframe src=\"http://127.0.0.1:7863/\" width=\"100%\" height=\"500\" allow=\"autoplay; camera; microphone; clipboard-read; clipboard-write;\" frameborder=\"0\" allowfullscreen></iframe></div>"
      ]
     },
     "metadata": {},
     "output_type": "display_data"
    },
    {
     "data": {
      "text/plain": []
     },
     "execution_count": 5,
     "metadata": {},
     "output_type": "execute_result"
    }
   ],
   "execution_count": 5
  }
 ],
 "metadata": {
  "kernelspec": {
   "display_name": "Python 3",
   "language": "python",
   "name": "python3"
  },
  "language_info": {
   "codemirror_mode": {
    "name": "ipython",
    "version": 2
   },
   "file_extension": ".py",
   "mimetype": "text/x-python",
   "name": "python",
   "nbconvert_exporter": "python",
   "pygments_lexer": "ipython2",
   "version": "2.7.6"
  }
 },
 "nbformat": 4,
 "nbformat_minor": 5
}
